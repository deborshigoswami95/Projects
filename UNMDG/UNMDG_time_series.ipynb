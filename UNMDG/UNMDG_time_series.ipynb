{
 "cells": [
  {
   "cell_type": "code",
   "execution_count": 75,
   "metadata": {},
   "outputs": [],
   "source": [
    "%matplotlib inline\n",
    "\n",
    "# data manipulation and modeling\n",
    "import numpy as np\n",
    "import pandas as pd\n",
    "import statsmodels.api as sm\n",
    "\n",
    "# graphix\n",
    "import matplotlib.pyplot as plt\n",
    "import prettyplotlib as pplt\n",
    "import seaborn as sns\n",
    "import statsmodels.graphics.tsaplots as tsaplots\n",
    "from statsmodels.tsa.arima_model import ARIMA\n",
    "from sklearn.metrics import mean_squared_error as MSE\n",
    "# utility\n",
    "import os"
   ]
  },
  {
   "cell_type": "code",
   "execution_count": 8,
   "metadata": {},
   "outputs": [],
   "source": [
    "pd.set_option('display.max_columns', 40)\n",
    "plt.rcParams['figure.figsize'] = [20, 10]"
   ]
  },
  {
   "cell_type": "code",
   "execution_count": 42,
   "metadata": {},
   "outputs": [],
   "source": [
    "def generate_year_list(start, stop=None):\n",
    "    \"\"\" \n",
    "    make a list of column names for specific years\n",
    "    in the format they appear in the data frame start/stop inclusive\n",
    "    \"\"\"\n",
    "    \n",
    "    if isinstance(start, list):\n",
    "        data_range = start\n",
    "    elif stop:\n",
    "        data_range = range(start, stop+1)\n",
    "    else:\n",
    "        data_range = [start]\n",
    "    \n",
    "    yrs = []\n",
    "    \n",
    "    for yr in data_range:\n",
    "        yrs.append(\"{0} [YR{0}]\".format(yr))\n",
    "        \n",
    "    return yrs\n",
    "\n",
    "\n",
    "def plot_rows(data, ids=None, linestyle=\"-\", legend=True):\n",
    "    # get some colors for the lines\n",
    "    bmap = pplt.brewer2mpl.get_map('Set3','Qualitative', 10)\n",
    "    colors = bmap.mpl_colors\n",
    "    \n",
    "    if not None == ids.all():\n",
    "        get_rows = lambda: enumerate(ids)\n",
    "    else:\n",
    "        get_rows = lambda: enumerate(data.index.values)\n",
    "    \n",
    "    for i, r in get_rows():\n",
    "        # get the time series values\n",
    "        time_data = data.loc[r]\n",
    "\n",
    "        # create an x axis to plot along\n",
    "        just_years = [y[:4] for y in data.columns]\n",
    "        X = pd.DatetimeIndex(just_years)\n",
    "\n",
    "        # get time series info for labeling\n",
    "        country, descrip = train[[\"Country Name\", \"Series Name\"]].loc[r]\n",
    "\n",
    "        # plot the series\n",
    "        \n",
    "        plt.plot(X, time_data, c=colors[i],\n",
    "                 label=\"{} - {}\".format(country, descrip), ls=linestyle)\n",
    "        plt.scatter(X, time_data, alpha=0.8, c=colors[i], label = '')\n",
    "\n",
    "    if legend:\n",
    "        plt.legend(loc=0)\n",
    "    plt.title(\"Progress Towards Subset of MDGs\")\n",
    "    \n",
    "def ARIMA_prediction(data, P,D,Q):\n",
    "    model = ARIMA(data, order=(P, D, Q))\n",
    "    model_fit = model.fit(disp=0)\n",
    "    prediction = model_fit.forecast()[0]\n",
    "    return prediction\n",
    "\n",
    "def plot_random_rows(data, seed):\n",
    "    np.random.seed(seed)\n",
    "    rand_rows = np.random.choice(data.index.values, size=10)\n",
    "    plot_rows(data, ids=rand_rows)\n",
    "    plt.show()"
   ]
  },
  {
   "cell_type": "code",
   "execution_count": 2,
   "metadata": {},
   "outputs": [],
   "source": [
    "train = pd.read_csv(\"D:\\\\Datasets\\\\UNMDG\\\\TrainingSet.csv\", index_col = 0)"
   ]
  },
  {
   "cell_type": "code",
   "execution_count": 3,
   "metadata": {},
   "outputs": [],
   "source": [
    "submission_labels = pd.read_csv(\"D:\\\\Datasets\\\\UNMDG\\\\SubmissionRows.csv\", index_col=0)"
   ]
  },
  {
   "cell_type": "code",
   "execution_count": 6,
   "metadata": {
    "collapsed": true
   },
   "outputs": [
    {
     "data": {
      "text/html": [
       "<div>\n",
       "<style scoped>\n",
       "    .dataframe tbody tr th:only-of-type {\n",
       "        vertical-align: middle;\n",
       "    }\n",
       "\n",
       "    .dataframe tbody tr th {\n",
       "        vertical-align: top;\n",
       "    }\n",
       "\n",
       "    .dataframe thead th {\n",
       "        text-align: right;\n",
       "    }\n",
       "</style>\n",
       "<table border=\"1\" class=\"dataframe\">\n",
       "  <thead>\n",
       "    <tr style=\"text-align: right;\">\n",
       "      <th></th>\n",
       "      <th>1972 [YR1972]</th>\n",
       "      <th>1973 [YR1973]</th>\n",
       "      <th>1974 [YR1974]</th>\n",
       "      <th>1975 [YR1975]</th>\n",
       "      <th>1976 [YR1976]</th>\n",
       "      <th>1977 [YR1977]</th>\n",
       "      <th>1978 [YR1978]</th>\n",
       "      <th>1979 [YR1979]</th>\n",
       "      <th>1980 [YR1980]</th>\n",
       "      <th>1981 [YR1981]</th>\n",
       "      <th>...</th>\n",
       "      <th>1998 [YR1998]</th>\n",
       "      <th>1999 [YR1999]</th>\n",
       "      <th>2000 [YR2000]</th>\n",
       "      <th>2001 [YR2001]</th>\n",
       "      <th>2002 [YR2002]</th>\n",
       "      <th>2003 [YR2003]</th>\n",
       "      <th>2004 [YR2004]</th>\n",
       "      <th>2005 [YR2005]</th>\n",
       "      <th>2006 [YR2006]</th>\n",
       "      <th>2007 [YR2007]</th>\n",
       "    </tr>\n",
       "  </thead>\n",
       "  <tbody>\n",
       "    <tr>\n",
       "      <th>559</th>\n",
       "      <td>NaN</td>\n",
       "      <td>NaN</td>\n",
       "      <td>NaN</td>\n",
       "      <td>NaN</td>\n",
       "      <td>NaN</td>\n",
       "      <td>NaN</td>\n",
       "      <td>NaN</td>\n",
       "      <td>NaN</td>\n",
       "      <td>NaN</td>\n",
       "      <td>NaN</td>\n",
       "      <td>...</td>\n",
       "      <td>0.1520</td>\n",
       "      <td>0.1870</td>\n",
       "      <td>0.2210</td>\n",
       "      <td>0.256000</td>\n",
       "      <td>0.291000</td>\n",
       "      <td>0.325000</td>\n",
       "      <td>0.360000</td>\n",
       "      <td>0.395000</td>\n",
       "      <td>0.430000</td>\n",
       "      <td>0.4650</td>\n",
       "    </tr>\n",
       "    <tr>\n",
       "      <th>618</th>\n",
       "      <td>NaN</td>\n",
       "      <td>NaN</td>\n",
       "      <td>NaN</td>\n",
       "      <td>NaN</td>\n",
       "      <td>NaN</td>\n",
       "      <td>NaN</td>\n",
       "      <td>NaN</td>\n",
       "      <td>NaN</td>\n",
       "      <td>NaN</td>\n",
       "      <td>NaN</td>\n",
       "      <td>...</td>\n",
       "      <td>NaN</td>\n",
       "      <td>NaN</td>\n",
       "      <td>NaN</td>\n",
       "      <td>0.000047</td>\n",
       "      <td>0.000046</td>\n",
       "      <td>0.000879</td>\n",
       "      <td>0.001058</td>\n",
       "      <td>0.012241</td>\n",
       "      <td>0.021071</td>\n",
       "      <td>0.0190</td>\n",
       "    </tr>\n",
       "    <tr>\n",
       "      <th>753</th>\n",
       "      <td>0.296</td>\n",
       "      <td>0.2909</td>\n",
       "      <td>0.2852</td>\n",
       "      <td>0.2798</td>\n",
       "      <td>0.2742</td>\n",
       "      <td>0.2683</td>\n",
       "      <td>0.2624</td>\n",
       "      <td>0.2565</td>\n",
       "      <td>0.2503</td>\n",
       "      <td>0.2439</td>\n",
       "      <td>...</td>\n",
       "      <td>0.1391</td>\n",
       "      <td>0.1366</td>\n",
       "      <td>0.1339</td>\n",
       "      <td>0.131000</td>\n",
       "      <td>0.127700</td>\n",
       "      <td>0.124400</td>\n",
       "      <td>0.121000</td>\n",
       "      <td>0.117700</td>\n",
       "      <td>0.114500</td>\n",
       "      <td>0.1115</td>\n",
       "    </tr>\n",
       "    <tr>\n",
       "      <th>1030</th>\n",
       "      <td>NaN</td>\n",
       "      <td>NaN</td>\n",
       "      <td>NaN</td>\n",
       "      <td>NaN</td>\n",
       "      <td>NaN</td>\n",
       "      <td>NaN</td>\n",
       "      <td>NaN</td>\n",
       "      <td>NaN</td>\n",
       "      <td>NaN</td>\n",
       "      <td>NaN</td>\n",
       "      <td>...</td>\n",
       "      <td>0.0010</td>\n",
       "      <td>0.0010</td>\n",
       "      <td>0.0010</td>\n",
       "      <td>0.001000</td>\n",
       "      <td>0.001000</td>\n",
       "      <td>0.001000</td>\n",
       "      <td>0.001000</td>\n",
       "      <td>0.001000</td>\n",
       "      <td>0.001000</td>\n",
       "      <td>0.0010</td>\n",
       "    </tr>\n",
       "    <tr>\n",
       "      <th>1896</th>\n",
       "      <td>NaN</td>\n",
       "      <td>NaN</td>\n",
       "      <td>NaN</td>\n",
       "      <td>NaN</td>\n",
       "      <td>NaN</td>\n",
       "      <td>NaN</td>\n",
       "      <td>NaN</td>\n",
       "      <td>NaN</td>\n",
       "      <td>NaN</td>\n",
       "      <td>NaN</td>\n",
       "      <td>...</td>\n",
       "      <td>0.9650</td>\n",
       "      <td>0.9650</td>\n",
       "      <td>0.9650</td>\n",
       "      <td>0.964000</td>\n",
       "      <td>0.964000</td>\n",
       "      <td>0.963000</td>\n",
       "      <td>0.963000</td>\n",
       "      <td>0.962000</td>\n",
       "      <td>0.962000</td>\n",
       "      <td>0.9610</td>\n",
       "    </tr>\n",
       "  </tbody>\n",
       "</table>\n",
       "<p>5 rows × 36 columns</p>\n",
       "</div>"
      ],
      "text/plain": [
       "      1972 [YR1972]  1973 [YR1973]  1974 [YR1974]  1975 [YR1975]  \\\n",
       "559             NaN            NaN            NaN            NaN   \n",
       "618             NaN            NaN            NaN            NaN   \n",
       "753           0.296         0.2909         0.2852         0.2798   \n",
       "1030            NaN            NaN            NaN            NaN   \n",
       "1896            NaN            NaN            NaN            NaN   \n",
       "\n",
       "      1976 [YR1976]  1977 [YR1977]  1978 [YR1978]  1979 [YR1979]  \\\n",
       "559             NaN            NaN            NaN            NaN   \n",
       "618             NaN            NaN            NaN            NaN   \n",
       "753          0.2742         0.2683         0.2624         0.2565   \n",
       "1030            NaN            NaN            NaN            NaN   \n",
       "1896            NaN            NaN            NaN            NaN   \n",
       "\n",
       "      1980 [YR1980]  1981 [YR1981]      ...        1998 [YR1998]  \\\n",
       "559             NaN            NaN      ...               0.1520   \n",
       "618             NaN            NaN      ...                  NaN   \n",
       "753          0.2503         0.2439      ...               0.1391   \n",
       "1030            NaN            NaN      ...               0.0010   \n",
       "1896            NaN            NaN      ...               0.9650   \n",
       "\n",
       "      1999 [YR1999]  2000 [YR2000]  2001 [YR2001]  2002 [YR2002]  \\\n",
       "559          0.1870         0.2210       0.256000       0.291000   \n",
       "618             NaN            NaN       0.000047       0.000046   \n",
       "753          0.1366         0.1339       0.131000       0.127700   \n",
       "1030         0.0010         0.0010       0.001000       0.001000   \n",
       "1896         0.9650         0.9650       0.964000       0.964000   \n",
       "\n",
       "      2003 [YR2003]  2004 [YR2004]  2005 [YR2005]  2006 [YR2006]  \\\n",
       "559        0.325000       0.360000       0.395000       0.430000   \n",
       "618        0.000879       0.001058       0.012241       0.021071   \n",
       "753        0.124400       0.121000       0.117700       0.114500   \n",
       "1030       0.001000       0.001000       0.001000       0.001000   \n",
       "1896       0.963000       0.963000       0.962000       0.962000   \n",
       "\n",
       "      2007 [YR2007]  \n",
       "559          0.4650  \n",
       "618          0.0190  \n",
       "753          0.1115  \n",
       "1030         0.0010  \n",
       "1896         0.9610  \n",
       "\n",
       "[5 rows x 36 columns]"
      ]
     },
     "execution_count": 6,
     "metadata": {},
     "output_type": "execute_result"
    }
   ],
   "source": [
    "prediction_rows = train.loc[submission_labels.index]\n",
    "prediction_rows = prediction_rows[generate_year_list(1972, 2007)]\n",
    "prediction_rows.head()"
   ]
  },
  {
   "cell_type": "markdown",
   "metadata": {},
   "source": [
    "#### Hint\n",
    "Use 'data1'.corr('data2'.shift(lag)) to find cross correlation between two different series. <br>\n",
    "Use mutual information score. Figure out how."
   ]
  },
  {
   "cell_type": "code",
   "execution_count": 12,
   "metadata": {},
   "outputs": [],
   "source": [
    "#Use 2007 as validation set\n",
    "trainset = prediction_rows[generate_year_list(1972, 2006)]"
   ]
  },
  {
   "cell_type": "code",
   "execution_count": 36,
   "metadata": {},
   "outputs": [],
   "source": [
    "completed_trainset = trainset.drop(trainset[pd.isnull(trainset).any(axis=1)].index, axis = 0)"
   ]
  },
  {
   "cell_type": "code",
   "execution_count": 68,
   "metadata": {},
   "outputs": [
    {
     "data": {
      "text/plain": [
       "0.1115"
      ]
     },
     "execution_count": 68,
     "metadata": {},
     "output_type": "execute_result"
    }
   ],
   "source": [
    "prediction_rows[generate_year_list(2007)].loc[753].item()"
   ]
  },
  {
   "cell_type": "code",
   "execution_count": 72,
   "metadata": {
    "scrolled": true
   },
   "outputs": [
    {
     "name": "stderr",
     "output_type": "stream",
     "text": [
      "C:\\Users\\debor\\Anaconda3\\lib\\site-packages\\statsmodels\\base\\model.py:488: HessianInversionWarning: Inverting hessian failed, no bse or cov_params available\n",
      "  'available', HessianInversionWarning)\n",
      "C:\\Users\\debor\\Anaconda3\\lib\\site-packages\\statsmodels\\tsa\\kalmanf\\kalmanfilter.py:649: RuntimeWarning: divide by zero encountered in true_divide\n",
      "  R_mat, T_mat)\n",
      "C:\\Users\\debor\\Anaconda3\\lib\\site-packages\\statsmodels\\base\\model.py:488: HessianInversionWarning: Inverting hessian failed, no bse or cov_params available\n",
      "  'available', HessianInversionWarning)\n",
      "C:\\Users\\debor\\Anaconda3\\lib\\site-packages\\statsmodels\\base\\model.py:488: HessianInversionWarning: Inverting hessian failed, no bse or cov_params available\n",
      "  'available', HessianInversionWarning)\n",
      "C:\\Users\\debor\\Anaconda3\\lib\\site-packages\\statsmodels\\base\\model.py:488: HessianInversionWarning: Inverting hessian failed, no bse or cov_params available\n",
      "  'available', HessianInversionWarning)\n",
      "C:\\Users\\debor\\Anaconda3\\lib\\site-packages\\statsmodels\\tsa\\tsatools.py:607: RuntimeWarning: invalid value encountered in true_divide\n",
      "  (1+np.exp(-params))).copy()\n",
      "C:\\Users\\debor\\Anaconda3\\lib\\site-packages\\statsmodels\\tsa\\tsatools.py:609: RuntimeWarning: invalid value encountered in true_divide\n",
      "  (1+np.exp(-params))).copy()\n",
      "C:\\Users\\debor\\Anaconda3\\lib\\site-packages\\numpy\\linalg\\linalg.py:1728: RuntimeWarning: invalid value encountered in greater\n",
      "  large = s > cutoff\n",
      "C:\\Users\\debor\\Anaconda3\\lib\\site-packages\\statsmodels\\base\\model.py:488: HessianInversionWarning: Inverting hessian failed, no bse or cov_params available\n",
      "  'available', HessianInversionWarning)\n",
      "C:\\Users\\debor\\Anaconda3\\lib\\site-packages\\statsmodels\\base\\model.py:488: HessianInversionWarning: Inverting hessian failed, no bse or cov_params available\n",
      "  'available', HessianInversionWarning)\n",
      "C:\\Users\\debor\\Anaconda3\\lib\\site-packages\\statsmodels\\base\\model.py:488: HessianInversionWarning: Inverting hessian failed, no bse or cov_params available\n",
      "  'available', HessianInversionWarning)\n",
      "C:\\Users\\debor\\Anaconda3\\lib\\site-packages\\statsmodels\\base\\model.py:488: HessianInversionWarning: Inverting hessian failed, no bse or cov_params available\n",
      "  'available', HessianInversionWarning)\n"
     ]
    }
   ],
   "source": [
    "yhat_2007 = []\n",
    "for i in completed_trainset.index:\n",
    "    yhat = ARIMA_prediction(list(completed_trainset.loc[i]), 1,0,0)[0]\n",
    "    yhat_2007.append([i,yhat,prediction_rows[generate_year_list(2007)].loc[i].item()])"
   ]
  },
  {
   "cell_type": "code",
   "execution_count": 73,
   "metadata": {},
   "outputs": [],
   "source": [
    "yhat_2007 = np.asarray(yhat_2007)"
   ]
  },
  {
   "cell_type": "code",
   "execution_count": 79,
   "metadata": {},
   "outputs": [
    {
     "data": {
      "text/plain": [
       "1.1536041732494047e-05"
      ]
     },
     "execution_count": 79,
     "metadata": {},
     "output_type": "execute_result"
    }
   ],
   "source": [
    "float(MSE(yhat_2007[:,2], yhat_2007[:,1]))"
   ]
  },
  {
   "cell_type": "code",
   "execution_count": null,
   "metadata": {},
   "outputs": [],
   "source": []
  }
 ],
 "metadata": {
  "kernelspec": {
   "display_name": "Python 3",
   "language": "python",
   "name": "python3"
  },
  "language_info": {
   "codemirror_mode": {
    "name": "ipython",
    "version": 3
   },
   "file_extension": ".py",
   "mimetype": "text/x-python",
   "name": "python",
   "nbconvert_exporter": "python",
   "pygments_lexer": "ipython3",
   "version": "3.6.5"
  }
 },
 "nbformat": 4,
 "nbformat_minor": 2
}
